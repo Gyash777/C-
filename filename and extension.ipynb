{
  "nbformat": 4,
  "nbformat_minor": 0,
  "metadata": {
    "colab": {
      "name": "Untitled1.ipynb",
      "provenance": [],
      "collapsed_sections": [],
      "authorship_tag": "ABX9TyOJbl5ZAyU+ucu9g9bANmim",
      "include_colab_link": true
    },
    "kernelspec": {
      "name": "python3",
      "display_name": "Python 3"
    },
    "language_info": {
      "name": "python"
    }
  },
  "cells": [
    {
      "cell_type": "markdown",
      "metadata": {
        "id": "view-in-github",
        "colab_type": "text"
      },
      "source": [
        "<a href=\"https://colab.research.google.com/github/Gyash777/C-/blob/main/filename%20and%20extension.ipynb\" target=\"_parent\"><img src=\"https://colab.research.google.com/assets/colab-badge.svg\" alt=\"Open In Colab\"/></a>"
      ]
    },
    {
      "cell_type": "code",
      "metadata": {
        "colab": {
          "base_uri": "https://localhost:8080/"
        },
        "id": "Q78fjlCEaQ1y",
        "outputId": "de9dbc08-a260-4232-e1bd-5596a9a15396"
      },
      "source": [
        "fn=input(\"Enter filename : \")\n",
        "f=fn.split(\".\")\n",
        "print(\"Extension of file is : \" + f[-1])\n"
      ],
      "execution_count": 2,
      "outputs": [
        {
          "output_type": "stream",
          "name": "stdout",
          "text": [
            "Enter filename : hello.py\n",
            "Extension of file is : py\n"
          ]
        }
      ]
    }
  ]
}