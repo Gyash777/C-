{
  "nbformat": 4,
  "nbformat_minor": 0,
  "metadata": {
    "colab": {
      "name": "Untitled1.ipynb",
      "provenance": [],
      "collapsed_sections": [],
      "authorship_tag": "ABX9TyMbQw2ZoHONYZNYngV9FA8c",
      "include_colab_link": true
    },
    "kernelspec": {
      "name": "python3",
      "display_name": "Python 3"
    },
    "language_info": {
      "name": "python"
    }
  },
  "cells": [
    {
      "cell_type": "markdown",
      "metadata": {
        "id": "view-in-github",
        "colab_type": "text"
      },
      "source": [
        "<a href=\"https://colab.research.google.com/github/Gyash777/C-/blob/main/area%20of%20circle.ipynb\" target=\"_parent\"><img src=\"https://colab.research.google.com/assets/colab-badge.svg\" alt=\"Open In Colab\"/></a>"
      ]
    },
    {
      "cell_type": "code",
      "metadata": {
        "colab": {
          "base_uri": "https://localhost:8080/"
        },
        "id": "NNNpUJLBYVzK",
        "outputId": "75773fc8-2854-4866-faab-d81e06632e95"
      },
      "source": [
        "from math import pi\n",
        "r=float(input(\"Enter radius of circle : \"))\n",
        "print(\"Area of circle is : \" + str(pi*r**2))\n"
      ],
      "execution_count": 1,
      "outputs": [
        {
          "output_type": "stream",
          "name": "stdout",
          "text": [
            "Enter radius of circle : 1.1\n",
            "Area of circle is : 3.8013271108436504\n"
          ]
        }
      ]
    }
  ]
}