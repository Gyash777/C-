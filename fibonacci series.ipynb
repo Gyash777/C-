{
  "nbformat": 4,
  "nbformat_minor": 0,
  "metadata": {
    "colab": {
      "name": "Untitled2.ipynb",
      "provenance": [],
      "collapsed_sections": [],
      "authorship_tag": "ABX9TyPMvGaCDsa6AyyY/zMbbCop",
      "include_colab_link": true
    },
    "kernelspec": {
      "name": "python3",
      "display_name": "Python 3"
    },
    "language_info": {
      "name": "python"
    }
  },
  "cells": [
    {
      "cell_type": "markdown",
      "metadata": {
        "id": "view-in-github",
        "colab_type": "text"
      },
      "source": [
        "<a href=\"https://colab.research.google.com/github/Gyash777/C-/blob/main/fibonacci%20series.ipynb\" target=\"_parent\"><img src=\"https://colab.research.google.com/assets/colab-badge.svg\" alt=\"Open In Colab\"/></a>"
      ]
    },
    {
      "cell_type": "code",
      "metadata": {
        "colab": {
          "base_uri": "https://localhost:8080/"
        },
        "id": "ncAFDAUg8pMM",
        "outputId": "0ea9820b-fcc1-48d9-fcef-eb6c47aeb58c"
      },
      "source": [
        "n = int(input())\n",
        "a = 0\n",
        "b = 1\n",
        "sum = 1\n",
        "count = 1\n",
        "print(\"Fibonacci series is: \", end = \" \")\n",
        "while(count <= n):\n",
        "  count += 1\n",
        "  print(a, end=\" \")\n",
        "  a = b\n",
        "  b = sum\n",
        "  sum = a + b"
      ],
      "execution_count": 1,
      "outputs": [
        {
          "output_type": "stream",
          "name": "stdout",
          "text": [
            "13\n",
            "Fibonacci series is:  0 1 1 2 3 5 8 13 21 34 55 89 144 "
          ]
        }
      ]
    }
  ]
}